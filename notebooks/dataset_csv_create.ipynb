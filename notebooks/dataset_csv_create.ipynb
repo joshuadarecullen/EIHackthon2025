{
 "cells": [
  {
   "cell_type": "code",
   "execution_count": 1,
   "id": "60ba61d0",
   "metadata": {},
   "outputs": [],
   "source": [
    "import pandas as pd\n",
    "#df = pd.read_parquet(\"../data/EIB2025/doc_descriptions/meterological_data_1.parquet\", engine=\"pyarrow\")\n",
    "import glob\n",
    "import numpy as np\n",
    "import csv\n",
    "import os\n",
    "\n",
    "file_paths = glob.glob(\"../data/EIB2025/doc_descriptions/*.parquet\")\n",
    "df = pd.concat([pd.read_parquet(fp) for fp in file_paths], ignore_index=True)"
   ]
  },
  {
   "cell_type": "code",
   "execution_count": 2,
   "id": "43fd4a81",
   "metadata": {},
   "outputs": [
    {
     "data": {
      "text/html": [
       "<div>\n",
       "<style scoped>\n",
       "    .dataframe tbody tr th:only-of-type {\n",
       "        vertical-align: middle;\n",
       "    }\n",
       "\n",
       "    .dataframe tbody tr th {\n",
       "        vertical-align: top;\n",
       "    }\n",
       "\n",
       "    .dataframe thead th {\n",
       "        text-align: right;\n",
       "    }\n",
       "</style>\n",
       "<table border=\"1\" class=\"dataframe\">\n",
       "  <thead>\n",
       "    <tr style=\"text-align: right;\">\n",
       "      <th></th>\n",
       "      <th>Key Points and Weather Watch</th>\n",
       "      <th>start_date</th>\n",
       "      <th>end_date</th>\n",
       "      <th>Change in Emphasis</th>\n",
       "      <th>Modifications</th>\n",
       "      <th>Evolution and Discussion</th>\n",
       "      <th>Precipitation</th>\n",
       "      <th>Wind</th>\n",
       "      <th>Temperature</th>\n",
       "      <th>Low Cloud / Visibility</th>\n",
       "      <th>Other / Miscellaneous</th>\n",
       "    </tr>\n",
       "  </thead>\n",
       "  <tbody>\n",
       "    <tr>\n",
       "      <th>0</th>\n",
       "      <td>{'MeterologicalData': ['Low cloud', 'rain', 'h...</td>\n",
       "      <td>2024-04-01 05:35:00</td>\n",
       "      <td>2024-04-02 05:35:00</td>\n",
       "      <td>{'MeterologicalData': ['sunny spells', 'rain',...</td>\n",
       "      <td>{'MeterologicalData': [], 'MeterologicalDescri...</td>\n",
       "      <td>{'MeterologicalData': ['frontal zones', 'upper...</td>\n",
       "      <td>{'MeterologicalData': [], 'MeterologicalDescri...</td>\n",
       "      <td>{'MeterologicalData': ['breezy', 'windy', 'gus...</td>\n",
       "      <td>{'MeterologicalData': ['maxima', 'frontal clou...</td>\n",
       "      <td>{'MeterologicalData': ['poor BL conditions', '...</td>\n",
       "      <td>{'MeterologicalData': [], 'MeterologicalDescri...</td>\n",
       "    </tr>\n",
       "    <tr>\n",
       "      <th>1</th>\n",
       "      <td>{'MeterologicalData': ['low cloud', 'rain', 'h...</td>\n",
       "      <td>2024-04-01 08:26:00</td>\n",
       "      <td>2024-04-02 08:26:00</td>\n",
       "      <td>{'MeterologicalData': ['rain', 'heavy showers'...</td>\n",
       "      <td>{'MeterologicalData': ['Density of showers', '...</td>\n",
       "      <td>{'MeterologicalData': ['frontal zone', 'cold a...</td>\n",
       "      <td>{'MeterologicalData': [], 'MeterologicalDescri...</td>\n",
       "      <td>{'MeterologicalData': ['shower', 'low cloud'],...</td>\n",
       "      <td>{'MeterologicalData': ['maxima', 'frontal clou...</td>\n",
       "      <td>{'MeterologicalData': ['BL conditions', 'ST/co...</td>\n",
       "      <td>{'MeterologicalData': [], 'MeterologicalDescri...</td>\n",
       "    </tr>\n",
       "    <tr>\n",
       "      <th>2</th>\n",
       "      <td>{'MeterologicalData': ['rain', 'heavy showers/...</td>\n",
       "      <td>2024-04-01 17:42:00</td>\n",
       "      <td>2024-04-02 17:42:00</td>\n",
       "      <td>{'MeterologicalData': ['heavy showers', 'TS', ...</td>\n",
       "      <td>{'MeterologicalData': ['Density of showers', '...</td>\n",
       "      <td>{'MeterologicalData': ['frontal zone', 'cold a...</td>\n",
       "      <td>{'MeterologicalData': [], 'MeterologicalDescri...</td>\n",
       "      <td>{'MeterologicalData': ['shower', 'low cloud'],...</td>\n",
       "      <td>{'MeterologicalData': ['frost', 'minima', 'max...</td>\n",
       "      <td>{'MeterologicalData': ['poor BL conditions', '...</td>\n",
       "      <td>{'MeterologicalData': [], 'MeterologicalDescri...</td>\n",
       "    </tr>\n",
       "    <tr>\n",
       "      <th>3</th>\n",
       "      <td>{'MeterologicalData': ['rain', 'low cloud', 'f...</td>\n",
       "      <td>2024-04-01 22:23:00</td>\n",
       "      <td>2024-04-02 22:23:00</td>\n",
       "      <td>{'MeterologicalData': ['cloudy', 'rain', 'show...</td>\n",
       "      <td>{'MeterologicalData': ['shower intensities'], ...</td>\n",
       "      <td>{'MeterologicalData': ['frontal zone', 'cold a...</td>\n",
       "      <td>{'MeterologicalData': [], 'MeterologicalDescri...</td>\n",
       "      <td>{'MeterologicalData': ['shower', 'low cloud'],...</td>\n",
       "      <td>{'MeterologicalData': ['frost', 'minima', 'max...</td>\n",
       "      <td>{'MeterologicalData': ['poor BL conditions', '...</td>\n",
       "      <td>{'MeterologicalData': [], 'MeterologicalDescri...</td>\n",
       "    </tr>\n",
       "    <tr>\n",
       "      <th>4</th>\n",
       "      <td>{'MeterologicalData': ['rain', 'low cloud', 'f...</td>\n",
       "      <td>2024-04-02 03:38:00</td>\n",
       "      <td>2024-04-03 03:38:00</td>\n",
       "      <td>{'MeterologicalData': ['Rain', 'low cloud', 'h...</td>\n",
       "      <td>{'MeterologicalData': ['heavier showers', 'sho...</td>\n",
       "      <td>{'MeterologicalData': ['low pressure systems',...</td>\n",
       "      <td>{'MeterologicalData': ['showers', 'heavier sho...</td>\n",
       "      <td>{'MeterologicalData': ['windier', 'near gales'...</td>\n",
       "      <td>{'MeterologicalData': ['minima', 'maxima', 'fr...</td>\n",
       "      <td>{'MeterologicalData': ['poor BL conditions', '...</td>\n",
       "      <td>{'MeterologicalData': [], 'MeterologicalDescri...</td>\n",
       "    </tr>\n",
       "  </tbody>\n",
       "</table>\n",
       "</div>"
      ],
      "text/plain": [
       "                        Key Points and Weather Watch          start_date  \\\n",
       "0  {'MeterologicalData': ['Low cloud', 'rain', 'h... 2024-04-01 05:35:00   \n",
       "1  {'MeterologicalData': ['low cloud', 'rain', 'h... 2024-04-01 08:26:00   \n",
       "2  {'MeterologicalData': ['rain', 'heavy showers/... 2024-04-01 17:42:00   \n",
       "3  {'MeterologicalData': ['rain', 'low cloud', 'f... 2024-04-01 22:23:00   \n",
       "4  {'MeterologicalData': ['rain', 'low cloud', 'f... 2024-04-02 03:38:00   \n",
       "\n",
       "             end_date                                 Change in Emphasis  \\\n",
       "0 2024-04-02 05:35:00  {'MeterologicalData': ['sunny spells', 'rain',...   \n",
       "1 2024-04-02 08:26:00  {'MeterologicalData': ['rain', 'heavy showers'...   \n",
       "2 2024-04-02 17:42:00  {'MeterologicalData': ['heavy showers', 'TS', ...   \n",
       "3 2024-04-02 22:23:00  {'MeterologicalData': ['cloudy', 'rain', 'show...   \n",
       "4 2024-04-03 03:38:00  {'MeterologicalData': ['Rain', 'low cloud', 'h...   \n",
       "\n",
       "                                       Modifications  \\\n",
       "0  {'MeterologicalData': [], 'MeterologicalDescri...   \n",
       "1  {'MeterologicalData': ['Density of showers', '...   \n",
       "2  {'MeterologicalData': ['Density of showers', '...   \n",
       "3  {'MeterologicalData': ['shower intensities'], ...   \n",
       "4  {'MeterologicalData': ['heavier showers', 'sho...   \n",
       "\n",
       "                            Evolution and Discussion  \\\n",
       "0  {'MeterologicalData': ['frontal zones', 'upper...   \n",
       "1  {'MeterologicalData': ['frontal zone', 'cold a...   \n",
       "2  {'MeterologicalData': ['frontal zone', 'cold a...   \n",
       "3  {'MeterologicalData': ['frontal zone', 'cold a...   \n",
       "4  {'MeterologicalData': ['low pressure systems',...   \n",
       "\n",
       "                                       Precipitation  \\\n",
       "0  {'MeterologicalData': [], 'MeterologicalDescri...   \n",
       "1  {'MeterologicalData': [], 'MeterologicalDescri...   \n",
       "2  {'MeterologicalData': [], 'MeterologicalDescri...   \n",
       "3  {'MeterologicalData': [], 'MeterologicalDescri...   \n",
       "4  {'MeterologicalData': ['showers', 'heavier sho...   \n",
       "\n",
       "                                                Wind  \\\n",
       "0  {'MeterologicalData': ['breezy', 'windy', 'gus...   \n",
       "1  {'MeterologicalData': ['shower', 'low cloud'],...   \n",
       "2  {'MeterologicalData': ['shower', 'low cloud'],...   \n",
       "3  {'MeterologicalData': ['shower', 'low cloud'],...   \n",
       "4  {'MeterologicalData': ['windier', 'near gales'...   \n",
       "\n",
       "                                         Temperature  \\\n",
       "0  {'MeterologicalData': ['maxima', 'frontal clou...   \n",
       "1  {'MeterologicalData': ['maxima', 'frontal clou...   \n",
       "2  {'MeterologicalData': ['frost', 'minima', 'max...   \n",
       "3  {'MeterologicalData': ['frost', 'minima', 'max...   \n",
       "4  {'MeterologicalData': ['minima', 'maxima', 'fr...   \n",
       "\n",
       "                              Low Cloud / Visibility  \\\n",
       "0  {'MeterologicalData': ['poor BL conditions', '...   \n",
       "1  {'MeterologicalData': ['BL conditions', 'ST/co...   \n",
       "2  {'MeterologicalData': ['poor BL conditions', '...   \n",
       "3  {'MeterologicalData': ['poor BL conditions', '...   \n",
       "4  {'MeterologicalData': ['poor BL conditions', '...   \n",
       "\n",
       "                               Other / Miscellaneous  \n",
       "0  {'MeterologicalData': [], 'MeterologicalDescri...  \n",
       "1  {'MeterologicalData': [], 'MeterologicalDescri...  \n",
       "2  {'MeterologicalData': [], 'MeterologicalDescri...  \n",
       "3  {'MeterologicalData': [], 'MeterologicalDescri...  \n",
       "4  {'MeterologicalData': [], 'MeterologicalDescri...  "
      ]
     },
     "execution_count": 2,
     "metadata": {},
     "output_type": "execute_result"
    }
   ],
   "source": [
    "df.head()"
   ]
  },
  {
   "cell_type": "code",
   "execution_count": 3,
   "id": "bb0c0c0a",
   "metadata": {},
   "outputs": [
    {
     "data": {
      "text/plain": [
       "['../data/EIB2025/doc_descriptions/meterological_data_4.parquet',\n",
       " '../data/EIB2025/doc_descriptions/meterological_data_1.parquet',\n",
       " '../data/EIB2025/doc_descriptions/meterological_data_2.parquet',\n",
       " '../data/EIB2025/doc_descriptions/meterological_data_3.parquet']"
      ]
     },
     "execution_count": 3,
     "metadata": {},
     "output_type": "execute_result"
    }
   ],
   "source": [
    "file_paths"
   ]
  },
  {
   "cell_type": "code",
   "execution_count": 4,
   "id": "3bd2af00",
   "metadata": {},
   "outputs": [],
   "source": [
    "data_dir = \"EIB2025/\"\n",
    "csv_path = \"../data/EIB2025/meteo_data_paths.csv\"\n",
    "sub_string =\"C:\\\\PERSONAL\\\\UK PHD\\\\2025_eib_hackerton\\\\\"\n",
    "\n",
    "npy_paths = []\n",
    "dates = []\n",
    "\n",
    "# i have to index csv to drop dates and add descriptions and labels\n",
    "with open(csv_path, newline='', encoding='utf-8') as csvfile:\n",
    "    csv_reader = csv.DictReader(csvfile)\n",
    "    for row in csv_reader:\n",
    "        npy_paths.append(row[\"path\"])\n",
    "        dates.append(row[\"date\"])\n",
    "\n",
    "'changed to linux paths'\n",
    "npy_paths = [os.path.join(data_dir, x.replace(sub_string, \"\").replace(\"\\\\\", \"/\")) for x in npy_paths]"
   ]
  },
  {
   "cell_type": "code",
   "execution_count": 5,
   "id": "9ebccdba",
   "metadata": {},
   "outputs": [],
   "source": [
    "met_dates = [str(date) for date in df['start_date'].to_list()]"
   ]
  },
  {
   "cell_type": "code",
   "execution_count": 6,
   "id": "7f9f2a5e",
   "metadata": {
    "scrolled": true
   },
   "outputs": [
    {
     "name": "stdout",
     "output_type": "stream",
     "text": [
      "447\n",
      "465\n"
     ]
    }
   ],
   "source": [
    "print(len(npy_paths))\n",
    "print(len(met_dates))"
   ]
  },
  {
   "cell_type": "code",
   "execution_count": 7,
   "id": "452af865",
   "metadata": {},
   "outputs": [
    {
     "name": "stdout",
     "output_type": "stream",
     "text": [
      "430\n",
      "430\n"
     ]
    }
   ],
   "source": [
    "from datetime import datetime\n",
    "\n",
    "def get_time_bin(time_str):\n",
    "    \"\"\"Converts a time string to its corresponding 6-hour bin.\"\"\"\n",
    "    time_obj = datetime.strptime(time_str.strip(), \"%H:%M:%S\")\n",
    "    hour = time_obj.hour\n",
    "\n",
    "    if 0 <= hour < 6:\n",
    "        return '_000000'\n",
    "    elif 6 <= hour < 12:\n",
    "        return '_060000'\n",
    "    elif 12 <= hour < 18:\n",
    "        return '_120000'\n",
    "    else:\n",
    "        return '_180000'\n",
    "\n",
    "# bin the dates for given 6 hour time range\n",
    "binned_dates = [date[:10]+get_time_bin(date[10:]) for date in met_dates]\n",
    "df['binned_date_times'] = binned_dates # add to data frame to index \n",
    "\n",
    "cleaned_npy_dates = [date for date in dates if date in binned_dates] # retrieve date-times that we have data for\n",
    "cleaned_met_dates = [date for date in binned_dates if date in cleaned_npy_dates] # sanity check\n",
    "\n",
    "print(len(cleaned_npy_dates))\n",
    "print(len(cleaned_met_dates))"
   ]
  },
  {
   "cell_type": "code",
   "execution_count": 8,
   "id": "79f96bd0",
   "metadata": {},
   "outputs": [],
   "source": [
    "cleaned_npy_data = {}\n",
    "cleaned_npy_p = []\n",
    "\n",
    "for i, date in enumerate(dates):\n",
    "    if date in binned_dates:\n",
    "        cleaned_npy_data[date] = {'path': npy_paths[i]}"
   ]
  },
  {
   "cell_type": "code",
   "execution_count": 9,
   "id": "398fc449",
   "metadata": {},
   "outputs": [
    {
     "data": {
      "text/plain": [
       "{'MeterologicalData': array(['Low cloud', 'rain', 'heavy showers'], dtype=object),\n",
       " 'MeterologicalDescription': array(['Low cloud now extensive across central and E England, as well as for North Sea coastal areas',\n",
       "        'rain over parts of NE England and SE Scotland on Monday',\n",
       "        'heavy showers/TS in post-frontal airmass S/SW England, S Wales and S Midlands Monday afternoon'],\n",
       "       dtype=object)}"
      ]
     },
     "execution_count": 9,
     "metadata": {},
     "output_type": "execute_result"
    }
   ],
   "source": [
    " df[\"Key Points and Weather Watch\"][0] # need description and labels"
   ]
  },
  {
   "cell_type": "code",
   "execution_count": 13,
   "id": "691ec7d0",
   "metadata": {},
   "outputs": [],
   "source": [
    "# collect descritptions and labels, added to correct date\n",
    "for i, date in enumerate(cleaned_npy_data.keys()):\n",
    "    row_values = df[df['binned_date_times'] == date]['Key Points and Weather Watch'].to_dict()\n",
    "    row_values = list(row_values.values())[0]\n",
    "    info = {'label': row_values['MeterologicalData'],\n",
    "           'description': ' '.join(row_values['MeterologicalDescription'])}\n",
    "    cleaned_npy_data[date].update(info)"
   ]
  },
  {
   "cell_type": "code",
   "execution_count": 14,
   "id": "bfaa2330",
   "metadata": {},
   "outputs": [
    {
     "data": {
      "text/plain": [
       "{136: {'MeterologicalData': array([], dtype=object),\n",
       "  'MeterologicalDescription': array([], dtype=object)}}"
      ]
     },
     "execution_count": 14,
     "metadata": {},
     "output_type": "execute_result"
    }
   ],
   "source": [
    "# Example of data point with empty labels and description\n",
    "row_values = df[df['binned_date_times'] == '2024-01-06_060000']['Key Points and Weather Watch'].to_dict()\n",
    "row_values"
   ]
  },
  {
   "cell_type": "code",
   "execution_count": 15,
   "id": "a5de2915",
   "metadata": {},
   "outputs": [
    {
     "data": {
      "text/plain": [
       "430"
      ]
     },
     "execution_count": 15,
     "metadata": {},
     "output_type": "execute_result"
    }
   ],
   "source": [
    "len(cleaned_npy_data.keys())"
   ]
  },
  {
   "cell_type": "code",
   "execution_count": 16,
   "id": "75a1c336",
   "metadata": {},
   "outputs": [
    {
     "data": {
      "text/plain": [
       "428"
      ]
     },
     "execution_count": 16,
     "metadata": {},
     "output_type": "execute_result"
    }
   ],
   "source": [
    "final_cleaned_npy_data = {k: v for k, v in cleaned_npy_data.items() if len(v['label']) and v['description']}\n",
    "len(final_cleaned_npy_data.keys())"
   ]
  },
  {
   "cell_type": "code",
   "execution_count": 17,
   "id": "a85edb9e",
   "metadata": {},
   "outputs": [],
   "source": [
    "flattened = []\n",
    "for key, value in final_cleaned_npy_data.items():\n",
    "    flattened.append({\n",
    "        'datetime': key,\n",
    "        'path': value['path'],\n",
    "        'label': ' '.join(value['label'].tolist()),\n",
    "        'description': value['description']\n",
    "    })\n",
    "\n",
    "final_dataset = pd.DataFrame(flattened)\n",
    "final_dataset.to_csv('dataset.csv', index=False)"
   ]
  },
  {
   "cell_type": "code",
   "execution_count": 18,
   "id": "9d65c972",
   "metadata": {},
   "outputs": [
    {
     "data": {
      "text/html": [
       "<div>\n",
       "<style scoped>\n",
       "    .dataframe tbody tr th:only-of-type {\n",
       "        vertical-align: middle;\n",
       "    }\n",
       "\n",
       "    .dataframe tbody tr th {\n",
       "        vertical-align: top;\n",
       "    }\n",
       "\n",
       "    .dataframe thead th {\n",
       "        text-align: right;\n",
       "    }\n",
       "</style>\n",
       "<table border=\"1\" class=\"dataframe\">\n",
       "  <thead>\n",
       "    <tr style=\"text-align: right;\">\n",
       "      <th></th>\n",
       "      <th>datetime</th>\n",
       "      <th>path</th>\n",
       "      <th>label</th>\n",
       "      <th>description</th>\n",
       "    </tr>\n",
       "  </thead>\n",
       "  <tbody>\n",
       "    <tr>\n",
       "      <th>0</th>\n",
       "      <td>2024-01-01_000000</td>\n",
       "      <td>EIB2025/npy_files_2024_single_timesteps/2024-0...</td>\n",
       "      <td>wet weather windy</td>\n",
       "      <td>spells of wet weather following across much of...</td>\n",
       "    </tr>\n",
       "    <tr>\n",
       "      <th>1</th>\n",
       "      <td>2024-01-01_060000</td>\n",
       "      <td>EIB2025/npy_files_2024_single_timesteps/2024-0...</td>\n",
       "      <td>wet weather windy</td>\n",
       "      <td>spells of wet weather across many parts later ...</td>\n",
       "    </tr>\n",
       "    <tr>\n",
       "      <th>2</th>\n",
       "      <td>2024-01-01_120000</td>\n",
       "      <td>EIB2025/npy_files_2024_single_timesteps/2024-0...</td>\n",
       "      <td>wet weather windy</td>\n",
       "      <td>spells of wet weather across many parts later ...</td>\n",
       "    </tr>\n",
       "    <tr>\n",
       "      <th>3</th>\n",
       "      <td>2024-01-01_180000</td>\n",
       "      <td>EIB2025/npy_files_2024_single_timesteps/2024-0...</td>\n",
       "      <td>wet weather windy</td>\n",
       "      <td>spells of wet weather across many parts tonigh...</td>\n",
       "    </tr>\n",
       "    <tr>\n",
       "      <th>4</th>\n",
       "      <td>2024-01-02_000000</td>\n",
       "      <td>EIB2025/npy_files_2024_single_timesteps/2024-0...</td>\n",
       "      <td>wet weather windy</td>\n",
       "      <td>spells of wet weather across many parts during...</td>\n",
       "    </tr>\n",
       "  </tbody>\n",
       "</table>\n",
       "</div>"
      ],
      "text/plain": [
       "            datetime                                               path  \\\n",
       "0  2024-01-01_000000  EIB2025/npy_files_2024_single_timesteps/2024-0...   \n",
       "1  2024-01-01_060000  EIB2025/npy_files_2024_single_timesteps/2024-0...   \n",
       "2  2024-01-01_120000  EIB2025/npy_files_2024_single_timesteps/2024-0...   \n",
       "3  2024-01-01_180000  EIB2025/npy_files_2024_single_timesteps/2024-0...   \n",
       "4  2024-01-02_000000  EIB2025/npy_files_2024_single_timesteps/2024-0...   \n",
       "\n",
       "               label                                        description  \n",
       "0  wet weather windy  spells of wet weather following across much of...  \n",
       "1  wet weather windy  spells of wet weather across many parts later ...  \n",
       "2  wet weather windy  spells of wet weather across many parts later ...  \n",
       "3  wet weather windy  spells of wet weather across many parts tonigh...  \n",
       "4  wet weather windy  spells of wet weather across many parts during...  "
      ]
     },
     "execution_count": 18,
     "metadata": {},
     "output_type": "execute_result"
    }
   ],
   "source": [
    "final_dataset.head()"
   ]
  },
  {
   "cell_type": "code",
   "execution_count": 19,
   "id": "8f2e0edc",
   "metadata": {},
   "outputs": [
    {
     "data": {
      "text/plain": [
       "{'path': 'EIB2025/npy_files_2024_single_timesteps/2024-01-08_060000.npy',\n",
       " 'label': array(['colder conditions', 'drier conditions', 'quieter conditions',\n",
       "        'cloudier weather', 'fog', 'ice', 'showers', 'snow showers'],\n",
       "       dtype=object),\n",
       " 'description': 'much colder conditions now established much drier conditions now established much quieter conditions now established cloudier slightly less cold weather probably spreading slowly S’wards later some fog given recent wet weather ice given recent wet weather showers running into E of NI and SE Scotland snow showers running W’wards across S areas today and first half of tonight'}"
      ]
     },
     "execution_count": 19,
     "metadata": {},
     "output_type": "execute_result"
    }
   ],
   "source": [
    "final_cleaned_npy_data['2024-01-08_060000']"
   ]
  }
 ],
 "metadata": {
  "kernelspec": {
   "display_name": "Python 3 (ipykernel)",
   "language": "python",
   "name": "python3"
  },
  "language_info": {
   "codemirror_mode": {
    "name": "ipython",
    "version": 3
   },
   "file_extension": ".py",
   "mimetype": "text/x-python",
   "name": "python",
   "nbconvert_exporter": "python",
   "pygments_lexer": "ipython3",
   "version": "3.12.2"
  }
 },
 "nbformat": 4,
 "nbformat_minor": 5
}
