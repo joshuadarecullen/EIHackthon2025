{
 "cells": [
  {
   "cell_type": "code",
   "execution_count": 3,
   "id": "7584e694",
   "metadata": {},
   "outputs": [
    {
     "name": "stderr",
     "output_type": "stream",
     "text": [
      "/home/abl574/projects/EIHackthon2025/EIenv/lib/python3.12/site-packages/tqdm/auto.py:21: TqdmWarning: IProgress not found. Please update jupyter and ipywidgets. See https://ipywidgets.readthedocs.io/en/stable/user_install.html\n",
      "  from .autonotebook import tqdm as notebook_tqdm\n"
     ]
    }
   ],
   "source": [
    "import torch.nn as nn\n",
    "import torch.nn.functional as F\n",
    "import torch\n",
    "from transformers import BertModel,BertTokenizer"
   ]
  },
  {
   "cell_type": "code",
   "execution_count": 6,
   "id": "7cfbedb8",
   "metadata": {},
   "outputs": [],
   "source": [
    "class ClimateDataEncoder(nn.Module):\n",
    "    def __init__(self, input_channels, out_channels, output_dim):\n",
    "        super(ClimateDataEncoder, self).__init__()\n",
    "        \n",
    "        self.conv1 = nn.Conv2d(input_channels, out_channels, kernel_size=3, stride=1, padding=\"same\")\n",
    "        self.maxpool1 = nn.MaxPool2d(kernel_size=2, stride=2)\n",
    "        \n",
    "        self.convpool = nn.Sequential(\n",
    "            nn.Conv2d(out_channels, out_channels, kernel_size=3, stride=1, padding=\"same\"),\n",
    "            nn.ReLU()\n",
    "        )\n",
    "        self.maxpool2 = nn.MaxPool2d(kernel_size=2, stride=2)\n",
    "        self.conv2 = nn.ModuleList([self.convpool for _ in range(2)])\n",
    "        self.fc1 = nn.Linear(1200,output_dim)\n",
    "        self.fc2 = nn.Linear(768, output_dim)\n",
    "\n",
    "        self.bert_model = BertModel.from_pretrained('bert-base-uncased')\n",
    "        self.bert_tokenizer = BertTokenizer.from_pretrained('bert-base-uncased')\n",
    "    \n",
    "\n",
    "    def encode_climate_data(self, x):\n",
    "        x = self.conv1(x)\n",
    "        x = self.maxpool1(x)\n",
    "        x = F.relu(x)\n",
    "        for conv in self.conv2:\n",
    "            x = conv(x)\n",
    "        x = self.maxpool2(x)\n",
    "        x = x.view(x.size(0), x.size(1), -1)\n",
    "        x = x.mean(dim=1)\n",
    "        x = self.fc1(x)\n",
    "        return x\n",
    "    \n",
    "    def encode_text(self, text):\n",
    "        inputs = self.bert_tokenizer(text, return_tensors='pt', padding=True, truncation=True, max_length=512)\n",
    "        outputs = self.bert_model(**inputs)\n",
    "        pooled_output = outputs.pooler_output\n",
    "        pooled_output = self.fc2(pooled_output)\n",
    "        return pooled_output\n",
    "\n",
    "    def forward(self, climate_data,text):\n",
    "        climate_features = self.encode_climate_data(climate_data)\n",
    "        text_features = self.encode_text(text)\n",
    "        \n",
    "        return climate_features,text_features\n",
    "\n",
    "        \n",
    "    \n"
   ]
  },
  {
   "cell_type": "code",
   "execution_count": 7,
   "id": "4cf48d69",
   "metadata": {},
   "outputs": [],
   "source": [
    "input_climate = torch.randn(10,3, 121, 161)  # Example input tensor\n",
    "input_text = [\"Climate data example text\"] * 10  \n",
    "model = ClimateDataEncoder(input_channels=3, out_channels=32, output_dim=512)  # Example dimensions\n",
    "output = model(input_climate,input_text)  # Forward pass"
   ]
  },
  {
   "cell_type": "code",
   "execution_count": 9,
   "id": "671e5f78",
   "metadata": {},
   "outputs": [
    {
     "data": {
      "text/plain": [
       "(torch.Size([10, 512]), torch.Size([10, 512]))"
      ]
     },
     "execution_count": 9,
     "metadata": {},
     "output_type": "execute_result"
    }
   ],
   "source": [
    "output[0].shape, output[1].shape  # Output shapes for climate features and text features"
   ]
  },
  {
   "cell_type": "code",
   "execution_count": null,
   "id": "3c4c7388",
   "metadata": {},
   "outputs": [],
   "source": [
    "\n"
   ]
  }
 ],
 "metadata": {
  "kernelspec": {
   "display_name": "Python 3 (ipykernel)",
   "language": "python",
   "name": "python3"
  },
  "language_info": {
   "codemirror_mode": {
    "name": "ipython",
    "version": 3
   },
   "file_extension": ".py",
   "mimetype": "text/x-python",
   "name": "python",
   "nbconvert_exporter": "python",
   "pygments_lexer": "ipython3",
   "version": "3.12.2"
  }
 },
 "nbformat": 4,
 "nbformat_minor": 5
}
